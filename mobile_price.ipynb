{
 "cells": [
  {
   "cell_type": "markdown",
   "id": "709c7802-0c92-4d75-9773-bfe3e3504f8f",
   "metadata": {},
   "source": [
    "# Topic : Mobile Price Prediction\n",
    "In this project we are going to be building a model to predict the price of mobile phone based on certain parameters."
   ]
  },
  {
   "cell_type": "markdown",
   "id": "9fdf44ba-91e1-4ef2-95fb-cc4ceda1efe8",
   "metadata": {
    "jp-MarkdownHeadingCollapsed": true
   },
   "source": [
    "# Step 1 : Data Collection\n",
    "\n",
    "The data already presents in Kaggle.\n",
    "\n",
    "Reference :/kaggle/input/mobile-price-prediction-dataset/Mobile Price Prediction Datatset.csv\""
   ]
  },
  {
   "cell_type": "markdown",
   "id": "70e74d79-79b0-4e76-9324-560f12059621",
   "metadata": {},
   "source": [
    "# Step 2 : Importing Libraries\n",
    "\n",
    "### Importing the required libraries for this project."
   ]
  },
  {
   "cell_type": "code",
   "execution_count": 1,
   "id": "e2647b0f-f0e7-41b2-87f1-28b17bd27211",
   "metadata": {},
   "outputs": [],
   "source": [
    "import pandas as pd\n",
    "import numpy as np\n",
    "import matplotlib.pyplot as plt\n",
    "import seaborn as sns\n",
    "%matplotlib inline"
   ]
  },
  {
   "cell_type": "markdown",
   "id": "6bfbf784-95ff-4df1-829f-b15152830efb",
   "metadata": {},
   "source": [
    "# Step 2 : Data Preprocessing\n",
    "\n",
    "### This process involves cleaning the data to make it ready for the use of ML Algorithms.\n",
    "\n",
    "### To clean the data in various steps are taken such as,\n",
    "    \n",
    "-  Removing outliers.\n",
    "-  Filling missing values.\n",
    "-  Removing irrelevant fields."
   ]
  },
  {
   "cell_type": "code",
   "execution_count": 2,
   "id": "3a635296-636c-4e84-a89e-233a16b0ad9f",
   "metadata": {},
   "outputs": [],
   "source": [
    "data = pd.read_csv(\"Mobile Price Prediction Datatset.csv\")"
   ]
  },
  {
   "cell_type": "code",
   "execution_count": 3,
   "id": "a84057c9-e6a1-4dec-afda-57e6a0487d52",
   "metadata": {},
   "outputs": [
    {
     "data": {
      "text/html": [
       "<div>\n",
       "<style scoped>\n",
       "    .dataframe tbody tr th:only-of-type {\n",
       "        vertical-align: middle;\n",
       "    }\n",
       "\n",
       "    .dataframe tbody tr th {\n",
       "        vertical-align: top;\n",
       "    }\n",
       "\n",
       "    .dataframe thead th {\n",
       "        text-align: right;\n",
       "    }\n",
       "</style>\n",
       "<table border=\"1\" class=\"dataframe\">\n",
       "  <thead>\n",
       "    <tr style=\"text-align: right;\">\n",
       "      <th></th>\n",
       "      <th>Unnamed: 0</th>\n",
       "      <th>Brand me</th>\n",
       "      <th>Ratings</th>\n",
       "      <th>RAM</th>\n",
       "      <th>ROM</th>\n",
       "      <th>Mobile_Size</th>\n",
       "      <th>Primary_Cam</th>\n",
       "      <th>Selfi_Cam</th>\n",
       "      <th>Battery_Power</th>\n",
       "      <th>Price</th>\n",
       "    </tr>\n",
       "  </thead>\n",
       "  <tbody>\n",
       "    <tr>\n",
       "      <th>0</th>\n",
       "      <td>0</td>\n",
       "      <td>LG V30+ (Black, 128 )</td>\n",
       "      <td>4.3</td>\n",
       "      <td>4.0</td>\n",
       "      <td>128.0</td>\n",
       "      <td>6.00</td>\n",
       "      <td>48</td>\n",
       "      <td>13.0</td>\n",
       "      <td>4000</td>\n",
       "      <td>24999</td>\n",
       "    </tr>\n",
       "    <tr>\n",
       "      <th>1</th>\n",
       "      <td>1</td>\n",
       "      <td>I Kall K11</td>\n",
       "      <td>3.4</td>\n",
       "      <td>6.0</td>\n",
       "      <td>64.0</td>\n",
       "      <td>4.50</td>\n",
       "      <td>48</td>\n",
       "      <td>12.0</td>\n",
       "      <td>4000</td>\n",
       "      <td>15999</td>\n",
       "    </tr>\n",
       "    <tr>\n",
       "      <th>2</th>\n",
       "      <td>2</td>\n",
       "      <td>Nokia 105 ss</td>\n",
       "      <td>4.3</td>\n",
       "      <td>4.0</td>\n",
       "      <td>4.0</td>\n",
       "      <td>4.50</td>\n",
       "      <td>64</td>\n",
       "      <td>16.0</td>\n",
       "      <td>4000</td>\n",
       "      <td>15000</td>\n",
       "    </tr>\n",
       "    <tr>\n",
       "      <th>3</th>\n",
       "      <td>3</td>\n",
       "      <td>Samsung Galaxy A50 (White, 64 )</td>\n",
       "      <td>4.4</td>\n",
       "      <td>6.0</td>\n",
       "      <td>64.0</td>\n",
       "      <td>6.40</td>\n",
       "      <td>48</td>\n",
       "      <td>15.0</td>\n",
       "      <td>3800</td>\n",
       "      <td>18999</td>\n",
       "    </tr>\n",
       "    <tr>\n",
       "      <th>4</th>\n",
       "      <td>4</td>\n",
       "      <td>POCO F1 (Steel Blue, 128 )</td>\n",
       "      <td>4.5</td>\n",
       "      <td>6.0</td>\n",
       "      <td>128.0</td>\n",
       "      <td>6.18</td>\n",
       "      <td>35</td>\n",
       "      <td>15.0</td>\n",
       "      <td>3800</td>\n",
       "      <td>18999</td>\n",
       "    </tr>\n",
       "  </tbody>\n",
       "</table>\n",
       "</div>"
      ],
      "text/plain": [
       "   Unnamed: 0                         Brand me  Ratings  RAM    ROM  \\\n",
       "0           0            LG V30+ (Black, 128 )      4.3  4.0  128.0   \n",
       "1           1                       I Kall K11      3.4  6.0   64.0   \n",
       "2           2                     Nokia 105 ss      4.3  4.0    4.0   \n",
       "3           3  Samsung Galaxy A50 (White, 64 )      4.4  6.0   64.0   \n",
       "4           4       POCO F1 (Steel Blue, 128 )      4.5  6.0  128.0   \n",
       "\n",
       "   Mobile_Size  Primary_Cam  Selfi_Cam  Battery_Power  Price  \n",
       "0         6.00           48       13.0           4000  24999  \n",
       "1         4.50           48       12.0           4000  15999  \n",
       "2         4.50           64       16.0           4000  15000  \n",
       "3         6.40           48       15.0           3800  18999  \n",
       "4         6.18           35       15.0           3800  18999  "
      ]
     },
     "execution_count": 3,
     "metadata": {},
     "output_type": "execute_result"
    }
   ],
   "source": [
    "data.head()"
   ]
  },
  {
   "cell_type": "code",
   "execution_count": 4,
   "id": "688b91f8-d7cd-46a3-8b64-38a5da5dc15a",
   "metadata": {},
   "outputs": [
    {
     "data": {
      "text/plain": [
       "(836, 10)"
      ]
     },
     "execution_count": 4,
     "metadata": {},
     "output_type": "execute_result"
    }
   ],
   "source": [
    "data.shape"
   ]
  },
  {
   "cell_type": "markdown",
   "id": "32d34ab6-c33f-44ca-8f3d-eac58e2ab60b",
   "metadata": {},
   "source": [
    "### Removing the unwanted columns Unnamed and Brand me"
   ]
  },
  {
   "cell_type": "code",
   "execution_count": 5,
   "id": "ddbc69e4-56e1-40a5-80c6-09b3d04d83aa",
   "metadata": {},
   "outputs": [
    {
     "data": {
      "text/html": [
       "<div>\n",
       "<style scoped>\n",
       "    .dataframe tbody tr th:only-of-type {\n",
       "        vertical-align: middle;\n",
       "    }\n",
       "\n",
       "    .dataframe tbody tr th {\n",
       "        vertical-align: top;\n",
       "    }\n",
       "\n",
       "    .dataframe thead th {\n",
       "        text-align: right;\n",
       "    }\n",
       "</style>\n",
       "<table border=\"1\" class=\"dataframe\">\n",
       "  <thead>\n",
       "    <tr style=\"text-align: right;\">\n",
       "      <th></th>\n",
       "      <th>Ratings</th>\n",
       "      <th>RAM</th>\n",
       "      <th>ROM</th>\n",
       "      <th>Mobile_Size</th>\n",
       "      <th>Primary_Cam</th>\n",
       "      <th>Selfi_Cam</th>\n",
       "      <th>Battery_Power</th>\n",
       "      <th>Price</th>\n",
       "    </tr>\n",
       "  </thead>\n",
       "  <tbody>\n",
       "    <tr>\n",
       "      <th>0</th>\n",
       "      <td>4.3</td>\n",
       "      <td>4.0</td>\n",
       "      <td>128.0</td>\n",
       "      <td>6.00</td>\n",
       "      <td>48</td>\n",
       "      <td>13.0</td>\n",
       "      <td>4000</td>\n",
       "      <td>24999</td>\n",
       "    </tr>\n",
       "    <tr>\n",
       "      <th>1</th>\n",
       "      <td>3.4</td>\n",
       "      <td>6.0</td>\n",
       "      <td>64.0</td>\n",
       "      <td>4.50</td>\n",
       "      <td>48</td>\n",
       "      <td>12.0</td>\n",
       "      <td>4000</td>\n",
       "      <td>15999</td>\n",
       "    </tr>\n",
       "    <tr>\n",
       "      <th>2</th>\n",
       "      <td>4.3</td>\n",
       "      <td>4.0</td>\n",
       "      <td>4.0</td>\n",
       "      <td>4.50</td>\n",
       "      <td>64</td>\n",
       "      <td>16.0</td>\n",
       "      <td>4000</td>\n",
       "      <td>15000</td>\n",
       "    </tr>\n",
       "    <tr>\n",
       "      <th>3</th>\n",
       "      <td>4.4</td>\n",
       "      <td>6.0</td>\n",
       "      <td>64.0</td>\n",
       "      <td>6.40</td>\n",
       "      <td>48</td>\n",
       "      <td>15.0</td>\n",
       "      <td>3800</td>\n",
       "      <td>18999</td>\n",
       "    </tr>\n",
       "    <tr>\n",
       "      <th>4</th>\n",
       "      <td>4.5</td>\n",
       "      <td>6.0</td>\n",
       "      <td>128.0</td>\n",
       "      <td>6.18</td>\n",
       "      <td>35</td>\n",
       "      <td>15.0</td>\n",
       "      <td>3800</td>\n",
       "      <td>18999</td>\n",
       "    </tr>\n",
       "  </tbody>\n",
       "</table>\n",
       "</div>"
      ],
      "text/plain": [
       "   Ratings  RAM    ROM  Mobile_Size  Primary_Cam  Selfi_Cam  Battery_Power  \\\n",
       "0      4.3  4.0  128.0         6.00           48       13.0           4000   \n",
       "1      3.4  6.0   64.0         4.50           48       12.0           4000   \n",
       "2      4.3  4.0    4.0         4.50           64       16.0           4000   \n",
       "3      4.4  6.0   64.0         6.40           48       15.0           3800   \n",
       "4      4.5  6.0  128.0         6.18           35       15.0           3800   \n",
       "\n",
       "   Price  \n",
       "0  24999  \n",
       "1  15999  \n",
       "2  15000  \n",
       "3  18999  \n",
       "4  18999  "
      ]
     },
     "execution_count": 5,
     "metadata": {},
     "output_type": "execute_result"
    }
   ],
   "source": [
    "data.drop(['Unnamed: 0','Brand me'],axis=1,inplace=True)\n",
    "data.head()"
   ]
  },
  {
   "cell_type": "markdown",
   "id": "c322a6f1-0698-4544-bd81-2d7140910871",
   "metadata": {},
   "source": [
    "### Relationship between Mobile_Size and Price"
   ]
  },
  {
   "cell_type": "code",
   "execution_count": 6,
   "id": "2de5c59c-c578-4f93-b242-0fdbc57dfcfc",
   "metadata": {},
   "outputs": [
    {
     "data": {
      "image/png": "[encoded data removed]",
      "text/plain": [
       "<Figure size 640x480 with 1 Axes>"
      ]
     },
     "metadata": {},
     "output_type": "display_data"
    }
   ],
   "source": [
    "plt.scatter(data['Mobile_Size'],data['Price'])\n",
    "plt.xlabel('Mobile_Size')\n",
    "plt.ylabel('Price')\n",
    "plt.title('Relationship between Mobile_Size and Price')\n",
    "plt.show()"
   ]
  },
  {
   "cell_type": "markdown",
   "id": "eb8e22e0-ac3a-4144-9e43-33845b718b6b",
   "metadata": {},
   "source": [
    "###### That the above visual gives that there are some outliers when it comes to mobile size.\n",
    "###### We could visualize that mobile sizes are less than 10  and above 3."
   ]
  },
  {
   "cell_type": "markdown",
   "id": "80d1d49c-fd42-4ba7-982f-1c4276616358",
   "metadata": {},
   "source": [
    "### Removing Outliers"
   ]
  },
  {
   "cell_type": "code",
   "execution_count": 7,
   "id": "f0f3f5d1-dcc4-406f-be8e-f2dab6b1dfe9",
   "metadata": {},
   "outputs": [],
   "source": [
    "data = data[(data['Mobile_Size'] < 10) | (data['Mobile_Size'] > 3)]"
   ]
  },
  {
   "cell_type": "code",
   "execution_count": 8,
   "id": "69b1e640-6971-48c8-a439-19b8e72fd0d2",
   "metadata": {},
   "outputs": [
    {
     "data": {
      "text/plain": [
       "(834, 8)"
      ]
     },
     "execution_count": 8,
     "metadata": {},
     "output_type": "execute_result"
    }
   ],
   "source": [
    "data.shape"
   ]
  },
  {
   "cell_type": "code",
   "execution_count": 9,
   "id": "ada3a7ab-1233-41ec-bd86-35a17a616724",
   "metadata": {},
   "outputs": [
    {
     "data": {
      "text/html": [
       "<div>\n",
       "<style scoped>\n",
       "    .dataframe tbody tr th:only-of-type {\n",
       "        vertical-align: middle;\n",
       "    }\n",
       "\n",
       "    .dataframe tbody tr th {\n",
       "        vertical-align: top;\n",
       "    }\n",
       "\n",
       "    .dataframe thead th {\n",
       "        text-align: right;\n",
       "    }\n",
       "</style>\n",
       "<table border=\"1\" class=\"dataframe\">\n",
       "  <thead>\n",
       "    <tr style=\"text-align: right;\">\n",
       "      <th></th>\n",
       "      <th>Ratings</th>\n",
       "      <th>RAM</th>\n",
       "      <th>ROM</th>\n",
       "      <th>Mobile_Size</th>\n",
       "      <th>Primary_Cam</th>\n",
       "      <th>Selfi_Cam</th>\n",
       "      <th>Battery_Power</th>\n",
       "      <th>Price</th>\n",
       "    </tr>\n",
       "  </thead>\n",
       "  <tbody>\n",
       "    <tr>\n",
       "      <th>0</th>\n",
       "      <td>4.3</td>\n",
       "      <td>4.0</td>\n",
       "      <td>128.0</td>\n",
       "      <td>6.00</td>\n",
       "      <td>48</td>\n",
       "      <td>13.0</td>\n",
       "      <td>4000</td>\n",
       "      <td>24999</td>\n",
       "    </tr>\n",
       "    <tr>\n",
       "      <th>1</th>\n",
       "      <td>3.4</td>\n",
       "      <td>6.0</td>\n",
       "      <td>64.0</td>\n",
       "      <td>4.50</td>\n",
       "      <td>48</td>\n",
       "      <td>12.0</td>\n",
       "      <td>4000</td>\n",
       "      <td>15999</td>\n",
       "    </tr>\n",
       "    <tr>\n",
       "      <th>2</th>\n",
       "      <td>4.3</td>\n",
       "      <td>4.0</td>\n",
       "      <td>4.0</td>\n",
       "      <td>4.50</td>\n",
       "      <td>64</td>\n",
       "      <td>16.0</td>\n",
       "      <td>4000</td>\n",
       "      <td>15000</td>\n",
       "    </tr>\n",
       "    <tr>\n",
       "      <th>3</th>\n",
       "      <td>4.4</td>\n",
       "      <td>6.0</td>\n",
       "      <td>64.0</td>\n",
       "      <td>6.40</td>\n",
       "      <td>48</td>\n",
       "      <td>15.0</td>\n",
       "      <td>3800</td>\n",
       "      <td>18999</td>\n",
       "    </tr>\n",
       "    <tr>\n",
       "      <th>4</th>\n",
       "      <td>4.5</td>\n",
       "      <td>6.0</td>\n",
       "      <td>128.0</td>\n",
       "      <td>6.18</td>\n",
       "      <td>35</td>\n",
       "      <td>15.0</td>\n",
       "      <td>3800</td>\n",
       "      <td>18999</td>\n",
       "    </tr>\n",
       "  </tbody>\n",
       "</table>\n",
       "</div>"
      ],
      "text/plain": [
       "   Ratings  RAM    ROM  Mobile_Size  Primary_Cam  Selfi_Cam  Battery_Power  \\\n",
       "0      4.3  4.0  128.0         6.00           48       13.0           4000   \n",
       "1      3.4  6.0   64.0         4.50           48       12.0           4000   \n",
       "2      4.3  4.0    4.0         4.50           64       16.0           4000   \n",
       "3      4.4  6.0   64.0         6.40           48       15.0           3800   \n",
       "4      4.5  6.0  128.0         6.18           35       15.0           3800   \n",
       "\n",
       "   Price  \n",
       "0  24999  \n",
       "1  15999  \n",
       "2  15000  \n",
       "3  18999  \n",
       "4  18999  "
      ]
     },
     "execution_count": 9,
     "metadata": {},
     "output_type": "execute_result"
    }
   ],
   "source": [
    "data.head()"
   ]
  },
  {
   "cell_type": "markdown",
   "id": "be303bf7-1bbe-49be-aada-bd335f328a29",
   "metadata": {},
   "source": [
    "### Relationship between Battery_Power and Price"
   ]
  },
  {
   "cell_type": "code",
   "execution_count": 10,
   "id": "2203900f-9245-4766-a7b2-cd8cb8d50de4",
   "metadata": {},
   "outputs": [
    {
     "data": {
      "image/png": "[encoded data removed]",
      "text/plain": [
       "<Figure size 640x480 with 1 Axes>"
      ]
     },
     "metadata": {},
     "output_type": "display_data"
    }
   ],
   "source": [
    "plt.scatter(data['Battery_Power'],data['Price'])\n",
    "plt.xlabel('Battery_Power')\n",
    "plt.ylabel('Price')\n",
    "plt.title(\"Relationship between Battery_Power and Price\")\n",
    "plt.show()"
   ]
  },
  {
   "cell_type": "code",
   "execution_count": 11,
   "id": "4280f309-5aa6-467f-bfdf-0165c9e7bad3",
   "metadata": {},
   "outputs": [
    {
     "data": {
      "image/png": "[encoded data removed]",
      "text/plain": [
       "<Figure size 640x480 with 1 Axes>"
      ]
     },
     "metadata": {},
     "output_type": "display_data"
    }
   ],
   "source": [
    "plt.hist(data['Price'])\n",
    "plt.xlabel(\"Price_Range\")\n",
    "plt.show()"
   ]
  },
  {
   "cell_type": "markdown",
   "id": "3b826884-6f96-4e3a-8fad-e642dc2fd8d5",
   "metadata": {},
   "source": [
    "###### from the above visual we can come to understand that any price above 250,000 is an outlier."
   ]
  },
  {
   "cell_type": "code",
   "execution_count": 12,
   "id": "bd1b2be1-96e4-4a2c-b31f-52f0e37159b8",
   "metadata": {},
   "outputs": [
    {
     "data": {
      "text/html": [
       "<div>\n",
       "<style scoped>\n",
       "    .dataframe tbody tr th:only-of-type {\n",
       "        vertical-align: middle;\n",
       "    }\n",
       "\n",
       "    .dataframe tbody tr th {\n",
       "        vertical-align: top;\n",
       "    }\n",
       "\n",
       "    .dataframe thead th {\n",
       "        text-align: right;\n",
       "    }\n",
       "</style>\n",
       "<table border=\"1\" class=\"dataframe\">\n",
       "  <thead>\n",
       "    <tr style=\"text-align: right;\">\n",
       "      <th></th>\n",
       "      <th>Ratings</th>\n",
       "      <th>RAM</th>\n",
       "      <th>ROM</th>\n",
       "      <th>Mobile_Size</th>\n",
       "      <th>Primary_Cam</th>\n",
       "      <th>Selfi_Cam</th>\n",
       "      <th>Battery_Power</th>\n",
       "      <th>Price</th>\n",
       "    </tr>\n",
       "  </thead>\n",
       "  <tbody>\n",
       "    <tr>\n",
       "      <th>35</th>\n",
       "      <td>4.6</td>\n",
       "      <td>12.0</td>\n",
       "      <td>128.0</td>\n",
       "      <td>6.10</td>\n",
       "      <td>35</td>\n",
       "      <td>7.0</td>\n",
       "      <td>3500</td>\n",
       "      <td>573000</td>\n",
       "    </tr>\n",
       "    <tr>\n",
       "      <th>115</th>\n",
       "      <td>4.6</td>\n",
       "      <td>12.0</td>\n",
       "      <td>64.0</td>\n",
       "      <td>6.10</td>\n",
       "      <td>35</td>\n",
       "      <td>7.0</td>\n",
       "      <td>3500</td>\n",
       "      <td>573000</td>\n",
       "    </tr>\n",
       "    <tr>\n",
       "      <th>191</th>\n",
       "      <td>4.5</td>\n",
       "      <td>8.0</td>\n",
       "      <td>128.0</td>\n",
       "      <td>6.44</td>\n",
       "      <td>48</td>\n",
       "      <td>13.0</td>\n",
       "      <td>4100</td>\n",
       "      <td>253000</td>\n",
       "    </tr>\n",
       "    <tr>\n",
       "      <th>437</th>\n",
       "      <td>4.6</td>\n",
       "      <td>8.0</td>\n",
       "      <td>128.0</td>\n",
       "      <td>6.10</td>\n",
       "      <td>48</td>\n",
       "      <td>12.0</td>\n",
       "      <td>3000</td>\n",
       "      <td>563000</td>\n",
       "    </tr>\n",
       "    <tr>\n",
       "      <th>454</th>\n",
       "      <td>4.6</td>\n",
       "      <td>12.0</td>\n",
       "      <td>64.0</td>\n",
       "      <td>6.10</td>\n",
       "      <td>35</td>\n",
       "      <td>7.0</td>\n",
       "      <td>3500</td>\n",
       "      <td>573000</td>\n",
       "    </tr>\n",
       "    <tr>\n",
       "      <th>500</th>\n",
       "      <td>4.6</td>\n",
       "      <td>12.0</td>\n",
       "      <td>64.0</td>\n",
       "      <td>6.10</td>\n",
       "      <td>35</td>\n",
       "      <td>7.0</td>\n",
       "      <td>3500</td>\n",
       "      <td>573000</td>\n",
       "    </tr>\n",
       "    <tr>\n",
       "      <th>774</th>\n",
       "      <td>4.6</td>\n",
       "      <td>8.0</td>\n",
       "      <td>128.0</td>\n",
       "      <td>6.10</td>\n",
       "      <td>48</td>\n",
       "      <td>12.0</td>\n",
       "      <td>3000</td>\n",
       "      <td>563000</td>\n",
       "    </tr>\n",
       "  </tbody>\n",
       "</table>\n",
       "</div>"
      ],
      "text/plain": [
       "     Ratings   RAM    ROM  Mobile_Size  Primary_Cam  Selfi_Cam  Battery_Power  \\\n",
       "35       4.6  12.0  128.0         6.10           35        7.0           3500   \n",
       "115      4.6  12.0   64.0         6.10           35        7.0           3500   \n",
       "191      4.5   8.0  128.0         6.44           48       13.0           4100   \n",
       "437      4.6   8.0  128.0         6.10           48       12.0           3000   \n",
       "454      4.6  12.0   64.0         6.10           35        7.0           3500   \n",
       "500      4.6  12.0   64.0         6.10           35        7.0           3500   \n",
       "774      4.6   8.0  128.0         6.10           48       12.0           3000   \n",
       "\n",
       "      Price  \n",
       "35   573000  \n",
       "115  573000  \n",
       "191  253000  \n",
       "437  563000  \n",
       "454  573000  \n",
       "500  573000  \n",
       "774  563000  "
      ]
     },
     "execution_count": 12,
     "metadata": {},
     "output_type": "execute_result"
    }
   ],
   "source": [
    "data[data['Price'] > 250000]"
   ]
  },
  {
   "cell_type": "markdown",
   "id": "047abcc3-adbc-4aad-8aa0-c162817e5447",
   "metadata": {},
   "source": [
    "### Removing Outliers"
   ]
  },
  {
   "cell_type": "code",
   "execution_count": 13,
   "id": "17d9847d-df1c-4070-8feb-27d76254f06a",
   "metadata": {},
   "outputs": [],
   "source": [
    "data = data[data['Price'] < 250000]"
   ]
  },
  {
   "cell_type": "code",
   "execution_count": 14,
   "id": "695485a8-c352-4a5a-ba66-7f7f9bb01502",
   "metadata": {},
   "outputs": [
    {
     "data": {
      "text/plain": [
       "(827, 8)"
      ]
     },
     "execution_count": 14,
     "metadata": {},
     "output_type": "execute_result"
    }
   ],
   "source": [
    "data.shape"
   ]
  },
  {
   "cell_type": "markdown",
   "id": "49e8479a-47bc-41a7-8aad-184c4fa2d084",
   "metadata": {},
   "source": [
    "### Relationship between Selfi_Cam and Price"
   ]
  },
  {
   "cell_type": "code",
   "execution_count": 15,
   "id": "c813b5d1-be8a-49b4-802c-6ffaef55c92a",
   "metadata": {},
   "outputs": [
    {
     "data": {
      "image/png": "[encoded data removed]",
      "text/plain": [
       "<Figure size 640x480 with 1 Axes>"
      ]
     },
     "metadata": {},
     "output_type": "display_data"
    }
   ],
   "source": [
    "plt.scatter(data['Selfi_Cam'],data['Price'])\n",
    "plt.xlabel('Selfi_Cam')\n",
    "plt.ylabel('Price')\n",
    "plt.show()"
   ]
  },
  {
   "cell_type": "code",
   "execution_count": 16,
   "id": "e218b039-9637-445e-903e-8c4b95e5787a",
   "metadata": {},
   "outputs": [
    {
     "data": {
      "text/html": [
       "<div>\n",
       "<style scoped>\n",
       "    .dataframe tbody tr th:only-of-type {\n",
       "        vertical-align: middle;\n",
       "    }\n",
       "\n",
       "    .dataframe tbody tr th {\n",
       "        vertical-align: top;\n",
       "    }\n",
       "\n",
       "    .dataframe thead th {\n",
       "        text-align: right;\n",
       "    }\n",
       "</style>\n",
       "<table border=\"1\" class=\"dataframe\">\n",
       "  <thead>\n",
       "    <tr style=\"text-align: right;\">\n",
       "      <th></th>\n",
       "      <th>Ratings</th>\n",
       "      <th>RAM</th>\n",
       "      <th>ROM</th>\n",
       "      <th>Mobile_Size</th>\n",
       "      <th>Primary_Cam</th>\n",
       "      <th>Selfi_Cam</th>\n",
       "      <th>Battery_Power</th>\n",
       "      <th>Price</th>\n",
       "    </tr>\n",
       "  </thead>\n",
       "  <tbody>\n",
       "    <tr>\n",
       "      <th>24</th>\n",
       "      <td>NaN</td>\n",
       "      <td>6.0</td>\n",
       "      <td>32.0</td>\n",
       "      <td>4.50</td>\n",
       "      <td>64</td>\n",
       "      <td>32.0</td>\n",
       "      <td>3000</td>\n",
       "      <td>649</td>\n",
       "    </tr>\n",
       "    <tr>\n",
       "      <th>83</th>\n",
       "      <td>NaN</td>\n",
       "      <td>6.0</td>\n",
       "      <td>32.0</td>\n",
       "      <td>4.54</td>\n",
       "      <td>48</td>\n",
       "      <td>32.0</td>\n",
       "      <td>1900</td>\n",
       "      <td>1570</td>\n",
       "    </tr>\n",
       "    <tr>\n",
       "      <th>211</th>\n",
       "      <td>4.2</td>\n",
       "      <td>8.0</td>\n",
       "      <td>64.0</td>\n",
       "      <td>4.77</td>\n",
       "      <td>48</td>\n",
       "      <td>32.0</td>\n",
       "      <td>3000</td>\n",
       "      <td>749</td>\n",
       "    </tr>\n",
       "    <tr>\n",
       "      <th>228</th>\n",
       "      <td>4.0</td>\n",
       "      <td>6.0</td>\n",
       "      <td>32.0</td>\n",
       "      <td>4.50</td>\n",
       "      <td>38</td>\n",
       "      <td>32.0</td>\n",
       "      <td>1750</td>\n",
       "      <td>999</td>\n",
       "    </tr>\n",
       "    <tr>\n",
       "      <th>229</th>\n",
       "      <td>3.9</td>\n",
       "      <td>8.0</td>\n",
       "      <td>64.0</td>\n",
       "      <td>4.54</td>\n",
       "      <td>64</td>\n",
       "      <td>32.0</td>\n",
       "      <td>2500</td>\n",
       "      <td>1710</td>\n",
       "    </tr>\n",
       "    <tr>\n",
       "      <th>253</th>\n",
       "      <td>4.0</td>\n",
       "      <td>6.0</td>\n",
       "      <td>32.0</td>\n",
       "      <td>4.50</td>\n",
       "      <td>48</td>\n",
       "      <td>32.0</td>\n",
       "      <td>3500</td>\n",
       "      <td>998</td>\n",
       "    </tr>\n",
       "    <tr>\n",
       "      <th>444</th>\n",
       "      <td>4.2</td>\n",
       "      <td>6.0</td>\n",
       "      <td>32.0</td>\n",
       "      <td>4.54</td>\n",
       "      <td>48</td>\n",
       "      <td>61.0</td>\n",
       "      <td>1750</td>\n",
       "      <td>1390</td>\n",
       "    </tr>\n",
       "    <tr>\n",
       "      <th>447</th>\n",
       "      <td>4.5</td>\n",
       "      <td>6.0</td>\n",
       "      <td>128.0</td>\n",
       "      <td>6.39</td>\n",
       "      <td>48</td>\n",
       "      <td>32.0</td>\n",
       "      <td>3000</td>\n",
       "      <td>21099</td>\n",
       "    </tr>\n",
       "    <tr>\n",
       "      <th>556</th>\n",
       "      <td>3.8</td>\n",
       "      <td>6.0</td>\n",
       "      <td>32.0</td>\n",
       "      <td>4.40</td>\n",
       "      <td>48</td>\n",
       "      <td>32.0</td>\n",
       "      <td>3800</td>\n",
       "      <td>930</td>\n",
       "    </tr>\n",
       "    <tr>\n",
       "      <th>787</th>\n",
       "      <td>NaN</td>\n",
       "      <td>6.0</td>\n",
       "      <td>32.0</td>\n",
       "      <td>4.50</td>\n",
       "      <td>64</td>\n",
       "      <td>32.0</td>\n",
       "      <td>3000</td>\n",
       "      <td>649</td>\n",
       "    </tr>\n",
       "  </tbody>\n",
       "</table>\n",
       "</div>"
      ],
      "text/plain": [
       "     Ratings  RAM    ROM  Mobile_Size  Primary_Cam  Selfi_Cam  Battery_Power  \\\n",
       "24       NaN  6.0   32.0         4.50           64       32.0           3000   \n",
       "83       NaN  6.0   32.0         4.54           48       32.0           1900   \n",
       "211      4.2  8.0   64.0         4.77           48       32.0           3000   \n",
       "228      4.0  6.0   32.0         4.50           38       32.0           1750   \n",
       "229      3.9  8.0   64.0         4.54           64       32.0           2500   \n",
       "253      4.0  6.0   32.0         4.50           48       32.0           3500   \n",
       "444      4.2  6.0   32.0         4.54           48       61.0           1750   \n",
       "447      4.5  6.0  128.0         6.39           48       32.0           3000   \n",
       "556      3.8  6.0   32.0         4.40           48       32.0           3800   \n",
       "787      NaN  6.0   32.0         4.50           64       32.0           3000   \n",
       "\n",
       "     Price  \n",
       "24     649  \n",
       "83    1570  \n",
       "211    749  \n",
       "228    999  \n",
       "229   1710  \n",
       "253    998  \n",
       "444   1390  \n",
       "447  21099  \n",
       "556    930  \n",
       "787    649  "
      ]
     },
     "execution_count": 16,
     "metadata": {},
     "output_type": "execute_result"
    }
   ],
   "source": [
    "data[data['Selfi_Cam'] > 30]"
   ]
  },
  {
   "cell_type": "code",
   "execution_count": 17,
   "id": "8cd70439-9ab2-438f-bfa0-4137d3522800",
   "metadata": {},
   "outputs": [
    {
     "data": {
      "text/plain": [
       "(827, 8)"
      ]
     },
     "execution_count": 17,
     "metadata": {},
     "output_type": "execute_result"
    }
   ],
   "source": [
    "data.shape"
   ]
  },
  {
   "cell_type": "markdown",
   "id": "25b02679-7b21-4d8c-aa86-4014206bff95",
   "metadata": {},
   "source": [
    "As we notice that Selfie_Cam column has many Null values, so we need to fill that\n",
    "\n",
    "before removing the outliers if not we might loose a large part of the data set."
   ]
  },
  {
   "cell_type": "code",
   "execution_count": 18,
   "id": "bec59f02-d10e-4838-a821-114d6718a5c7",
   "metadata": {},
   "outputs": [
    {
     "data": {
      "text/plain": [
       "Ratings           31\n",
       "RAM                7\n",
       "ROM                3\n",
       "Mobile_Size        0\n",
       "Primary_Cam        0\n",
       "Selfi_Cam        267\n",
       "Battery_Power      0\n",
       "Price              0\n",
       "dtype: int64"
      ]
     },
     "execution_count": 18,
     "metadata": {},
     "output_type": "execute_result"
    }
   ],
   "source": [
    "data.isna().sum()"
   ]
  },
  {
   "cell_type": "code",
   "execution_count": 19,
   "id": "63ebe223-75d2-454a-9885-5e59fab04e70",
   "metadata": {},
   "outputs": [],
   "source": [
    "data['Selfi_Cam'] = data['Selfi_Cam'].fillna(data['Selfi_Cam'].median())"
   ]
  },
  {
   "cell_type": "code",
   "execution_count": 20,
   "id": "bee9de0b-7c51-465a-a15a-ab01564b8ef3",
   "metadata": {},
   "outputs": [
    {
     "data": {
      "text/plain": [
       "Ratings          31\n",
       "RAM               7\n",
       "ROM               3\n",
       "Mobile_Size       0\n",
       "Primary_Cam       0\n",
       "Selfi_Cam         0\n",
       "Battery_Power     0\n",
       "Price             0\n",
       "dtype: int64"
      ]
     },
     "execution_count": 20,
     "metadata": {},
     "output_type": "execute_result"
    }
   ],
   "source": [
    "data.isna().sum()"
   ]
  },
  {
   "cell_type": "markdown",
   "id": "4a472550-594d-4d6a-91a2-46c3ce436e8b",
   "metadata": {},
   "source": [
    "### Removing the outliers"
   ]
  },
  {
   "cell_type": "code",
   "execution_count": 21,
   "id": "956a0b1a-3453-46be-b9ac-47f2d1db3f47",
   "metadata": {},
   "outputs": [],
   "source": [
    "data = data[data['Selfi_Cam'] < 30]"
   ]
  },
  {
   "cell_type": "code",
   "execution_count": 22,
   "id": "9d6ee741-ad79-4989-9952-7b6bb9504720",
   "metadata": {},
   "outputs": [
    {
     "data": {
      "text/plain": [
       "(817, 8)"
      ]
     },
     "execution_count": 22,
     "metadata": {},
     "output_type": "execute_result"
    }
   ],
   "source": [
    "data.shape"
   ]
  },
  {
   "cell_type": "markdown",
   "id": "5161fef1-2973-4f68-bdca-cfa14ebf852c",
   "metadata": {},
   "source": [
    "### Relationship between RAM and Price"
   ]
  },
  {
   "cell_type": "code",
   "execution_count": 23,
   "id": "67a44f6a-e501-4052-b806-fae25bfdc9ca",
   "metadata": {},
   "outputs": [
    {
     "data": {
      "image/png": "[encoded data removed]",
      "text/plain": [
       "<Figure size 640x480 with 1 Axes>"
      ]
     },
     "metadata": {},
     "output_type": "display_data"
    }
   ],
   "source": [
    "plt.scatter(data['RAM'],data[\"Price\"])\n",
    "plt.xlabel(\"RAM\")\n",
    "plt.ylabel('Price')\n",
    "plt.title('Relationship between RAM and Price')\n",
    "plt.show()"
   ]
  },
  {
   "cell_type": "markdown",
   "id": "881139d1-a022-4efd-b565-f09c1757508c",
   "metadata": {},
   "source": [
    "That the above visual shows that there are some outliers because that as much as the RAM is high, the price seems to be too low which mean there was an error in\n",
    "the column during input so we have to remove this column with prize less than 20,000 but the RAM is greather than 16GB."
   ]
  },
  {
   "cell_type": "code",
   "execution_count": 24,
   "id": "962982ee-e78b-43a0-a017-9157094031d5",
   "metadata": {},
   "outputs": [
    {
     "data": {
      "text/html": [
       "<div>\n",
       "<style scoped>\n",
       "    .dataframe tbody tr th:only-of-type {\n",
       "        vertical-align: middle;\n",
       "    }\n",
       "\n",
       "    .dataframe tbody tr th {\n",
       "        vertical-align: top;\n",
       "    }\n",
       "\n",
       "    .dataframe thead th {\n",
       "        text-align: right;\n",
       "    }\n",
       "</style>\n",
       "<table border=\"1\" class=\"dataframe\">\n",
       "  <thead>\n",
       "    <tr style=\"text-align: right;\">\n",
       "      <th></th>\n",
       "      <th>Ratings</th>\n",
       "      <th>RAM</th>\n",
       "      <th>ROM</th>\n",
       "      <th>Mobile_Size</th>\n",
       "      <th>Primary_Cam</th>\n",
       "      <th>Selfi_Cam</th>\n",
       "      <th>Battery_Power</th>\n",
       "      <th>Price</th>\n",
       "    </tr>\n",
       "  </thead>\n",
       "  <tbody>\n",
       "    <tr>\n",
       "      <th>165</th>\n",
       "      <td>3.8</td>\n",
       "      <td>25.0</td>\n",
       "      <td>25.0</td>\n",
       "      <td>4.54</td>\n",
       "      <td>48</td>\n",
       "      <td>8.0</td>\n",
       "      <td>3000</td>\n",
       "      <td>1199</td>\n",
       "    </tr>\n",
       "    <tr>\n",
       "      <th>190</th>\n",
       "      <td>4.0</td>\n",
       "      <td>30.0</td>\n",
       "      <td>0.0</td>\n",
       "      <td>4.50</td>\n",
       "      <td>64</td>\n",
       "      <td>8.0</td>\n",
       "      <td>3500</td>\n",
       "      <td>799</td>\n",
       "    </tr>\n",
       "    <tr>\n",
       "      <th>205</th>\n",
       "      <td>3.9</td>\n",
       "      <td>34.0</td>\n",
       "      <td>64.0</td>\n",
       "      <td>4.50</td>\n",
       "      <td>48</td>\n",
       "      <td>21.0</td>\n",
       "      <td>3000</td>\n",
       "      <td>955</td>\n",
       "    </tr>\n",
       "  </tbody>\n",
       "</table>\n",
       "</div>"
      ],
      "text/plain": [
       "     Ratings   RAM   ROM  Mobile_Size  Primary_Cam  Selfi_Cam  Battery_Power  \\\n",
       "165      3.8  25.0  25.0         4.54           48        8.0           3000   \n",
       "190      4.0  30.0   0.0         4.50           64        8.0           3500   \n",
       "205      3.9  34.0  64.0         4.50           48       21.0           3000   \n",
       "\n",
       "     Price  \n",
       "165   1199  \n",
       "190    799  \n",
       "205    955  "
      ]
     },
     "execution_count": 24,
     "metadata": {},
     "output_type": "execute_result"
    }
   ],
   "source": [
    "data[data['RAM']>16]"
   ]
  },
  {
   "cell_type": "markdown",
   "id": "f20ec972-2b13-45cb-8a0c-7826a3567bc7",
   "metadata": {},
   "source": [
    "### Removing the Outliers"
   ]
  },
  {
   "cell_type": "code",
   "execution_count": 25,
   "id": "bc74471a-cbb4-4648-b70f-331849adecae",
   "metadata": {},
   "outputs": [],
   "source": [
    "data = data[data['RAM'] < 16]"
   ]
  },
  {
   "cell_type": "code",
   "execution_count": 26,
   "id": "32e53639-b63c-4a56-ac48-399bb4ab5d78",
   "metadata": {},
   "outputs": [
    {
     "data": {
      "text/plain": [
       "(807, 8)"
      ]
     },
     "execution_count": 26,
     "metadata": {},
     "output_type": "execute_result"
    }
   ],
   "source": [
    "data.shape"
   ]
  },
  {
   "cell_type": "markdown",
   "id": "d8eb15df-97ca-48bf-bc3e-76b6f1d055cf",
   "metadata": {},
   "source": [
    "### Relationship between ROM and Price"
   ]
  },
  {
   "cell_type": "code",
   "execution_count": 27,
   "id": "9c843d00-91a3-4909-87db-ed579262bb3a",
   "metadata": {},
   "outputs": [
    {
     "data": {
      "image/png": "[encoded data removed]",
      "text/plain": [
       "<Figure size 640x480 with 1 Axes>"
      ]
     },
     "metadata": {},
     "output_type": "display_data"
    }
   ],
   "source": [
    "plt.scatter(data['ROM'],data['Price'])\n",
    "plt.xlabel('ROM')\n",
    "plt.ylabel('Price')\n",
    "plt.title('Relationship between ROM and Price')\n",
    "plt.show()"
   ]
  },
  {
   "cell_type": "markdown",
   "id": "687bf4b5-9d76-4287-ad54-0ad6a02d9d26",
   "metadata": {},
   "source": [
    "### Checking the Null Values in ROM"
   ]
  },
  {
   "cell_type": "code",
   "execution_count": 28,
   "id": "613c3eeb-923c-4b66-8695-cff9919397a1",
   "metadata": {},
   "outputs": [
    {
     "data": {
      "text/plain": [
       "Ratings          28\n",
       "RAM               0\n",
       "ROM               3\n",
       "Mobile_Size       0\n",
       "Primary_Cam       0\n",
       "Selfi_Cam         0\n",
       "Battery_Power     0\n",
       "Price             0\n",
       "dtype: int64"
      ]
     },
     "execution_count": 28,
     "metadata": {},
     "output_type": "execute_result"
    }
   ],
   "source": [
    "data.isna().sum()"
   ]
  },
  {
   "cell_type": "markdown",
   "id": "f162d67b-c656-43f7-b3d6-fd210e56095b",
   "metadata": {},
   "source": [
    "### Filling the Null Values using Mode"
   ]
  },
  {
   "cell_type": "code",
   "execution_count": 29,
   "id": "b48d6668-5a40-4aa3-b3b4-7087bc7021cd",
   "metadata": {},
   "outputs": [
    {
     "data": {
      "text/plain": [
       "0"
      ]
     },
     "execution_count": 29,
     "metadata": {},
     "output_type": "execute_result"
    }
   ],
   "source": [
    "data['ROM'] = data['ROM'].fillna(data['ROM'].mode()[0])\n",
    "data['ROM'].isna().sum()"
   ]
  },
  {
   "cell_type": "markdown",
   "id": "4b669c19-8e20-4e0a-8465-577226033f48",
   "metadata": {},
   "source": [
    "### Relationship between Ratings and Price"
   ]
  },
  {
   "cell_type": "code",
   "execution_count": 30,
   "id": "3db99da9-d800-41f1-a89a-69153954ef74",
   "metadata": {},
   "outputs": [
    {
     "data": {
      "image/png": "[encoded data removed]",
      "text/plain": [
       "<Figure size 640x480 with 1 Axes>"
      ]
     },
     "metadata": {},
     "output_type": "display_data"
    }
   ],
   "source": [
    "plt.bar(data['Ratings'],data['Price'])\n",
    "plt.xlabel('Ratings')\n",
    "plt.ylabel('Price')\n",
    "plt.title('Relationship between Ratings and Price')\n",
    "plt.show()"
   ]
  },
  {
   "cell_type": "markdown",
   "id": "bcdf50a3-f9c0-439b-a450-c805325b1028",
   "metadata": {},
   "source": [
    "### Checking the Null Values in Ratings"
   ]
  },
  {
   "cell_type": "code",
   "execution_count": 31,
   "id": "e3f1e641-179b-4804-b201-201f0c0e900b",
   "metadata": {},
   "outputs": [
    {
     "data": {
      "text/plain": [
       "Ratings          28\n",
       "RAM               0\n",
       "ROM               0\n",
       "Mobile_Size       0\n",
       "Primary_Cam       0\n",
       "Selfi_Cam         0\n",
       "Battery_Power     0\n",
       "Price             0\n",
       "dtype: int64"
      ]
     },
     "execution_count": 31,
     "metadata": {},
     "output_type": "execute_result"
    }
   ],
   "source": [
    "data.isna().sum()"
   ]
  },
  {
   "cell_type": "markdown",
   "id": "145e5cb1-f4ea-4c79-ad15-735bdb6be5b3",
   "metadata": {},
   "source": [
    "### Filling the Null Values using Mode"
   ]
  },
  {
   "cell_type": "code",
   "execution_count": 32,
   "id": "5278f826-8145-4ada-8a78-fca67527d119",
   "metadata": {},
   "outputs": [
    {
     "data": {
      "text/plain": [
       "0"
      ]
     },
     "execution_count": 32,
     "metadata": {},
     "output_type": "execute_result"
    }
   ],
   "source": [
    "data['Ratings'] = data['Ratings'].fillna(data['Ratings'].mode()[0])\n",
    "data['Ratings'].isna().sum()"
   ]
  },
  {
   "cell_type": "code",
   "execution_count": 33,
   "id": "703061d1-6a9a-4815-8b15-51798b4302dc",
   "metadata": {},
   "outputs": [
    {
     "data": {
      "text/plain": [
       "Ratings          0\n",
       "RAM              0\n",
       "ROM              0\n",
       "Mobile_Size      0\n",
       "Primary_Cam      0\n",
       "Selfi_Cam        0\n",
       "Battery_Power    0\n",
       "Price            0\n",
       "dtype: int64"
      ]
     },
     "execution_count": 33,
     "metadata": {},
     "output_type": "execute_result"
    }
   ],
   "source": [
    "data.isna().sum()"
   ]
  },
  {
   "cell_type": "code",
   "execution_count": 34,
   "id": "491f454f-488a-454d-8187-6f695d1a3fb1",
   "metadata": {},
   "outputs": [
    {
     "name": "stdout",
     "output_type": "stream",
     "text": [
      "<class 'pandas.core.frame.DataFrame'>\n",
      "Index: 807 entries, 0 to 835\n",
      "Data columns (total 8 columns):\n",
      " #   Column         Non-Null Count  Dtype  \n",
      "---  ------         --------------  -----  \n",
      " 0   Ratings        807 non-null    float64\n",
      " 1   RAM            807 non-null    float64\n",
      " 2   ROM            807 non-null    float64\n",
      " 3   Mobile_Size    807 non-null    float64\n",
      " 4   Primary_Cam    807 non-null    int64  \n",
      " 5   Selfi_Cam      807 non-null    float64\n",
      " 6   Battery_Power  807 non-null    int64  \n",
      " 7   Price          807 non-null    int64  \n",
      "dtypes: float64(5), int64(3)\n",
      "memory usage: 56.7 KB\n"
     ]
    }
   ],
   "source": [
    "data.info()"
   ]
  },
  {
   "cell_type": "markdown",
   "id": "89dbe3b4-eb8a-4fed-a069-a3b15cc990c7",
   "metadata": {},
   "source": [
    "All the columns are in float or int values and there are no Null values. We have removed all the outliers so the data is clean and now the data is ready for the ML Project."
   ]
  },
  {
   "cell_type": "markdown",
   "id": "99aff592-a2f6-4433-9cd1-3e73d15b94b3",
   "metadata": {},
   "source": [
    "# Step 3 : Model Selection"
   ]
  },
  {
   "cell_type": "markdown",
   "id": "c62f6f31-c77c-46b7-9d50-e5955a77b08a",
   "metadata": {},
   "source": [
    "### Since we are trying to predict the Mobile Price , we need to use Regression models as they are good for predicting continuous variable"
   ]
  },
  {
   "cell_type": "markdown",
   "id": "d547ffed-e0da-4335-a57d-be90ccf1b956",
   "metadata": {},
   "source": [
    "- Linear Regression\n",
    "- Random Forest Regressor \n",
    "- Gradien Boosting Regressor"
   ]
  },
  {
   "cell_type": "markdown",
   "id": "fbc495de-22c2-4ad8-99e7-8d608a474ccc",
   "metadata": {},
   "source": [
    "### Setting the Random Seed "
   ]
  },
  {
   "cell_type": "code",
   "execution_count": 35,
   "id": "dd252b63-6cc2-460d-9189-7d7146cb6adb",
   "metadata": {},
   "outputs": [],
   "source": [
    "np.random.seed(52)"
   ]
  },
  {
   "cell_type": "markdown",
   "id": "a07db91d-b299-4360-9e2a-2662d225486c",
   "metadata": {},
   "source": [
    "# Step 4 : Model Trainng"
   ]
  },
  {
   "cell_type": "markdown",
   "id": "7da2c920-dcb0-4142-8082-e13429d15228",
   "metadata": {},
   "source": [
    "### In this session we train the model using above mentioned ML algorithms"
   ]
  },
  {
   "cell_type": "markdown",
   "id": "2516eabe-6ccc-4b33-a458-abec4236a84d",
   "metadata": {},
   "source": [
    "# 4.1 Spliting the data into X and Y Variables"
   ]
  },
  {
   "cell_type": "markdown",
   "id": "1ae3db79-49c3-4690-a1b8-1a4d8b5ff0a2",
   "metadata": {},
   "source": [
    "### Spliting the data into feature(x) and target(y)"
   ]
  },
  {
   "cell_type": "code",
   "execution_count": 36,
   "id": "c48afcb8-bd00-4024-8a98-0cd6a5443dad",
   "metadata": {},
   "outputs": [
    {
     "data": {
      "text/html": [
       "<div>\n",
       "<style scoped>\n",
       "    .dataframe tbody tr th:only-of-type {\n",
       "        vertical-align: middle;\n",
       "    }\n",
       "\n",
       "    .dataframe tbody tr th {\n",
       "        vertical-align: top;\n",
       "    }\n",
       "\n",
       "    .dataframe thead th {\n",
       "        text-align: right;\n",
       "    }\n",
       "</style>\n",
       "<table border=\"1\" class=\"dataframe\">\n",
       "  <thead>\n",
       "    <tr style=\"text-align: right;\">\n",
       "      <th></th>\n",
       "      <th>Ratings</th>\n",
       "      <th>RAM</th>\n",
       "      <th>ROM</th>\n",
       "      <th>Mobile_Size</th>\n",
       "      <th>Primary_Cam</th>\n",
       "      <th>Selfi_Cam</th>\n",
       "      <th>Battery_Power</th>\n",
       "    </tr>\n",
       "  </thead>\n",
       "  <tbody>\n",
       "    <tr>\n",
       "      <th>0</th>\n",
       "      <td>4.3</td>\n",
       "      <td>4.0</td>\n",
       "      <td>128.0</td>\n",
       "      <td>6.00</td>\n",
       "      <td>48</td>\n",
       "      <td>13.0</td>\n",
       "      <td>4000</td>\n",
       "    </tr>\n",
       "    <tr>\n",
       "      <th>1</th>\n",
       "      <td>3.4</td>\n",
       "      <td>6.0</td>\n",
       "      <td>64.0</td>\n",
       "      <td>4.50</td>\n",
       "      <td>48</td>\n",
       "      <td>12.0</td>\n",
       "      <td>4000</td>\n",
       "    </tr>\n",
       "    <tr>\n",
       "      <th>2</th>\n",
       "      <td>4.3</td>\n",
       "      <td>4.0</td>\n",
       "      <td>4.0</td>\n",
       "      <td>4.50</td>\n",
       "      <td>64</td>\n",
       "      <td>16.0</td>\n",
       "      <td>4000</td>\n",
       "    </tr>\n",
       "    <tr>\n",
       "      <th>3</th>\n",
       "      <td>4.4</td>\n",
       "      <td>6.0</td>\n",
       "      <td>64.0</td>\n",
       "      <td>6.40</td>\n",
       "      <td>48</td>\n",
       "      <td>15.0</td>\n",
       "      <td>3800</td>\n",
       "    </tr>\n",
       "    <tr>\n",
       "      <th>4</th>\n",
       "      <td>4.5</td>\n",
       "      <td>6.0</td>\n",
       "      <td>128.0</td>\n",
       "      <td>6.18</td>\n",
       "      <td>35</td>\n",
       "      <td>15.0</td>\n",
       "      <td>3800</td>\n",
       "    </tr>\n",
       "  </tbody>\n",
       "</table>\n",
       "</div>"
      ],
      "text/plain": [
       "   Ratings  RAM    ROM  Mobile_Size  Primary_Cam  Selfi_Cam  Battery_Power\n",
       "0      4.3  4.0  128.0         6.00           48       13.0           4000\n",
       "1      3.4  6.0   64.0         4.50           48       12.0           4000\n",
       "2      4.3  4.0    4.0         4.50           64       16.0           4000\n",
       "3      4.4  6.0   64.0         6.40           48       15.0           3800\n",
       "4      4.5  6.0  128.0         6.18           35       15.0           3800"
      ]
     },
     "execution_count": 36,
     "metadata": {},
     "output_type": "execute_result"
    }
   ],
   "source": [
    "X = data.drop('Price',axis=1)\n",
    "X.head()"
   ]
  },
  {
   "cell_type": "code",
   "execution_count": 37,
   "id": "443ac132-294c-4dfc-b384-aaa3c4877442",
   "metadata": {},
   "outputs": [
    {
     "data": {
      "text/plain": [
       "0    24999\n",
       "1    15999\n",
       "2    15000\n",
       "3    18999\n",
       "4    18999\n",
       "Name: Price, dtype: int64"
      ]
     },
     "execution_count": 37,
     "metadata": {},
     "output_type": "execute_result"
    }
   ],
   "source": [
    "y = data['Price']\n",
    "y.head()"
   ]
  },
  {
   "cell_type": "markdown",
   "id": "48cd7f42-5acb-40f8-af51-f0fad7c457af",
   "metadata": {},
   "source": [
    "# 4.2 Spliting the data by using train_test_split"
   ]
  },
  {
   "cell_type": "code",
   "execution_count": 38,
   "id": "c75e09a5-8147-4a72-b167-2e66f1b0ba5c",
   "metadata": {},
   "outputs": [],
   "source": [
    "from sklearn.model_selection import train_test_split"
   ]
  },
  {
   "cell_type": "code",
   "execution_count": 39,
   "id": "a7c89fc1-fc30-4af7-b333-a442fa0085ae",
   "metadata": {},
   "outputs": [],
   "source": [
    "X_train,X_test,y_train,y_test = train_test_split(X,y,test_size=0.2)"
   ]
  },
  {
   "cell_type": "code",
   "execution_count": 40,
   "id": "c5b30a93-7cc7-44fb-ad6f-12f6c9ed0718",
   "metadata": {},
   "outputs": [
    {
     "name": "stdout",
     "output_type": "stream",
     "text": [
      "X_train : (645, 7), X_test : (162, 7), y_train : (645,), y_test : (162,)\n"
     ]
    }
   ],
   "source": [
    "print(f'X_train : {X_train.shape}, X_test : {X_test.shape}, y_train : {y_train.shape}, y_test : {y_test.shape}')"
   ]
  },
  {
   "cell_type": "markdown",
   "id": "735c65f5-32aa-446d-9235-0523144a20d2",
   "metadata": {},
   "source": [
    "# 4.3 Linear Regression"
   ]
  },
  {
   "cell_type": "code",
   "execution_count": 41,
   "id": "89effac1-ea67-4abe-b07d-7ba0785abfff",
   "metadata": {},
   "outputs": [
    {
     "data": {
      "text/html": [
       "<style>#sk-container-id-1 {color: black;background-color: white;}#sk-container-id-1 pre{padding: 0;}#sk-container-id-1 div.sk-toggleable {background-color: white;}#sk-container-id-1 label.sk-toggleable__label {cursor: pointer;display: block;width: 100%;margin-bottom: 0;padding: 0.3em;box-sizing: border-box;text-align: center;}#sk-container-id-1 label.sk-toggleable__label-arrow:before {content: \"▸\";float: left;margin-right: 0.25em;color: #696969;}#sk-container-id-1 label.sk-toggleable__label-arrow:hover:before {color: black;}#sk-container-id-1 div.sk-estimator:hover label.sk-toggleable__label-arrow:before {color: black;}#sk-container-id-1 div.sk-toggleable__content {max-height: 0;max-width: 0;overflow: hidden;text-align: left;background-color: #f0f8ff;}#sk-container-id-1 div.sk-toggleable__content pre {margin: 0.2em;color: black;border-radius: 0.25em;background-color: #f0f8ff;}#sk-container-id-1 input.sk-toggleable__control:checked~div.sk-toggleable__content {max-height: 200px;max-width: 100%;overflow: auto;}#sk-container-id-1 input.sk-toggleable__control:checked~label.sk-toggleable__label-arrow:before {content: \"▾\";}#sk-container-id-1 div.sk-estimator input.sk-toggleable__control:checked~label.sk-toggleable__label {background-color: #d4ebff;}#sk-container-id-1 div.sk-label input.sk-toggleable__control:checked~label.sk-toggleable__label {background-color: #d4ebff;}#sk-container-id-1 input.sk-hidden--visually {border: 0;clip: rect(1px 1px 1px 1px);clip: rect(1px, 1px, 1px, 1px);height: 1px;margin: -1px;overflow: hidden;padding: 0;position: absolute;width: 1px;}#sk-container-id-1 div.sk-estimator {font-family: monospace;background-color: #f0f8ff;border: 1px dotted black;border-radius: 0.25em;box-sizing: border-box;margin-bottom: 0.5em;}#sk-container-id-1 div.sk-estimator:hover {background-color: #d4ebff;}#sk-container-id-1 div.sk-parallel-item::after {content: \"\";width: 100%;border-bottom: 1px solid gray;flex-grow: 1;}#sk-container-id-1 div.sk-label:hover label.sk-toggleable__label {background-color: #d4ebff;}#sk-container-id-1 div.sk-serial::before {content: \"\";position: absolute;border-left: 1px solid gray;box-sizing: border-box;top: 0;bottom: 0;left: 50%;z-index: 0;}#sk-container-id-1 div.sk-serial {display: flex;flex-direction: column;align-items: center;background-color: white;padding-right: 0.2em;padding-left: 0.2em;position: relative;}#sk-container-id-1 div.sk-item {position: relative;z-index: 1;}#sk-container-id-1 div.sk-parallel {display: flex;align-items: stretch;justify-content: center;background-color: white;position: relative;}#sk-container-id-1 div.sk-item::before, #sk-container-id-1 div.sk-parallel-item::before {content: \"\";position: absolute;border-left: 1px solid gray;box-sizing: border-box;top: 0;bottom: 0;left: 50%;z-index: -1;}#sk-container-id-1 div.sk-parallel-item {display: flex;flex-direction: column;z-index: 1;position: relative;background-color: white;}#sk-container-id-1 div.sk-parallel-item:first-child::after {align-self: flex-end;width: 50%;}#sk-container-id-1 div.sk-parallel-item:last-child::after {align-self: flex-start;width: 50%;}#sk-container-id-1 div.sk-parallel-item:only-child::after {width: 0;}#sk-container-id-1 div.sk-dashed-wrapped {border: 1px dashed gray;margin: 0 0.4em 0.5em 0.4em;box-sizing: border-box;padding-bottom: 0.4em;background-color: white;}#sk-container-id-1 div.sk-label label {font-family: monospace;font-weight: bold;display: inline-block;line-height: 1.2em;}#sk-container-id-1 div.sk-label-container {text-align: center;}#sk-container-id-1 div.sk-container {/* jupyter's `normalize.less` sets `[hidden] { display: none; }` but bootstrap.min.css set `[hidden] { display: none !important; }` so we also need the `!important` here to be able to override the default hidden behavior on the sphinx rendered scikit-learn.org. See: https://github.com/scikit-learn/scikit-learn/issues/21755 */display: inline-block !important;position: relative;}#sk-container-id-1 div.sk-text-repr-fallback {display: none;}</style><div id=\"sk-container-id-1\" class=\"sk-top-container\"><div class=\"sk-text-repr-fallback\"><pre>LinearRegression()</pre><b>In a Jupyter environment, please rerun this cell to show the HTML representation or trust the notebook. <br />On GitHub, the HTML representation is unable to render, please try loading this page with nbviewer.org.</b></div><div class=\"sk-container\" hidden><div class=\"sk-item\"><div class=\"sk-estimator sk-toggleable\"><input class=\"sk-toggleable__control sk-hidden--visually\" id=\"sk-estimator-id-1\" type=\"checkbox\" checked><label for=\"sk-estimator-id-1\" class=\"sk-toggleable__label sk-toggleable__label-arrow\">LinearRegression</label><div class=\"sk-toggleable__content\"><pre>LinearRegression()</pre></div></div></div></div></div>"
      ],
      "text/plain": [
       "LinearRegression()"
      ]
     },
     "execution_count": 41,
     "metadata": {},
     "output_type": "execute_result"
    }
   ],
   "source": [
    "from sklearn.linear_model import LinearRegression\n",
    "lr = LinearRegression()\n",
    "lr.fit(X_train,y_train)"
   ]
  },
  {
   "cell_type": "code",
   "execution_count": 42,
   "id": "0def8a39-25c0-4839-be98-0a3bd210be3e",
   "metadata": {},
   "outputs": [],
   "source": [
    "y_pred = lr.predict(X_test)"
   ]
  },
  {
   "cell_type": "markdown",
   "id": "3bc38ab7-4fe2-48c8-8e5c-689331b85df4",
   "metadata": {},
   "source": [
    "### Linear Regression Evalutaion in step 5.1"
   ]
  },
  {
   "cell_type": "markdown",
   "id": "a6fbcc7b-26f8-4935-bd71-3f724256a4d7",
   "metadata": {},
   "source": [
    "# 4.4 Random Forest Regressor"
   ]
  },
  {
   "cell_type": "code",
   "execution_count": 43,
   "id": "6111aed0-4489-4efe-a30d-b2012870e139",
   "metadata": {},
   "outputs": [
    {
     "data": {
      "text/html": [
       "<style>#sk-container-id-2 {color: black;background-color: white;}#sk-container-id-2 pre{padding: 0;}#sk-container-id-2 div.sk-toggleable {background-color: white;}#sk-container-id-2 label.sk-toggleable__label {cursor: pointer;display: block;width: 100%;margin-bottom: 0;padding: 0.3em;box-sizing: border-box;text-align: center;}#sk-container-id-2 label.sk-toggleable__label-arrow:before {content: \"▸\";float: left;margin-right: 0.25em;color: #696969;}#sk-container-id-2 label.sk-toggleable__label-arrow:hover:before {color: black;}#sk-container-id-2 div.sk-estimator:hover label.sk-toggleable__label-arrow:before {color: black;}#sk-container-id-2 div.sk-toggleable__content {max-height: 0;max-width: 0;overflow: hidden;text-align: left;background-color: #f0f8ff;}#sk-container-id-2 div.sk-toggleable__content pre {margin: 0.2em;color: black;border-radius: 0.25em;background-color: #f0f8ff;}#sk-container-id-2 input.sk-toggleable__control:checked~div.sk-toggleable__content {max-height: 200px;max-width: 100%;overflow: auto;}#sk-container-id-2 input.sk-toggleable__control:checked~label.sk-toggleable__label-arrow:before {content: \"▾\";}#sk-container-id-2 div.sk-estimator input.sk-toggleable__control:checked~label.sk-toggleable__label {background-color: #d4ebff;}#sk-container-id-2 div.sk-label input.sk-toggleable__control:checked~label.sk-toggleable__label {background-color: #d4ebff;}#sk-container-id-2 input.sk-hidden--visually {border: 0;clip: rect(1px 1px 1px 1px);clip: rect(1px, 1px, 1px, 1px);height: 1px;margin: -1px;overflow: hidden;padding: 0;position: absolute;width: 1px;}#sk-container-id-2 div.sk-estimator {font-family: monospace;background-color: #f0f8ff;border: 1px dotted black;border-radius: 0.25em;box-sizing: border-box;margin-bottom: 0.5em;}#sk-container-id-2 div.sk-estimator:hover {background-color: #d4ebff;}#sk-container-id-2 div.sk-parallel-item::after {content: \"\";width: 100%;border-bottom: 1px solid gray;flex-grow: 1;}#sk-container-id-2 div.sk-label:hover label.sk-toggleable__label {background-color: #d4ebff;}#sk-container-id-2 div.sk-serial::before {content: \"\";position: absolute;border-left: 1px solid gray;box-sizing: border-box;top: 0;bottom: 0;left: 50%;z-index: 0;}#sk-container-id-2 div.sk-serial {display: flex;flex-direction: column;align-items: center;background-color: white;padding-right: 0.2em;padding-left: 0.2em;position: relative;}#sk-container-id-2 div.sk-item {position: relative;z-index: 1;}#sk-container-id-2 div.sk-parallel {display: flex;align-items: stretch;justify-content: center;background-color: white;position: relative;}#sk-container-id-2 div.sk-item::before, #sk-container-id-2 div.sk-parallel-item::before {content: \"\";position: absolute;border-left: 1px solid gray;box-sizing: border-box;top: 0;bottom: 0;left: 50%;z-index: -1;}#sk-container-id-2 div.sk-parallel-item {display: flex;flex-direction: column;z-index: 1;position: relative;background-color: white;}#sk-container-id-2 div.sk-parallel-item:first-child::after {align-self: flex-end;width: 50%;}#sk-container-id-2 div.sk-parallel-item:last-child::after {align-self: flex-start;width: 50%;}#sk-container-id-2 div.sk-parallel-item:only-child::after {width: 0;}#sk-container-id-2 div.sk-dashed-wrapped {border: 1px dashed gray;margin: 0 0.4em 0.5em 0.4em;box-sizing: border-box;padding-bottom: 0.4em;background-color: white;}#sk-container-id-2 div.sk-label label {font-family: monospace;font-weight: bold;display: inline-block;line-height: 1.2em;}#sk-container-id-2 div.sk-label-container {text-align: center;}#sk-container-id-2 div.sk-container {/* jupyter's `normalize.less` sets `[hidden] { display: none; }` but bootstrap.min.css set `[hidden] { display: none !important; }` so we also need the `!important` here to be able to override the default hidden behavior on the sphinx rendered scikit-learn.org. See: https://github.com/scikit-learn/scikit-learn/issues/21755 */display: inline-block !important;position: relative;}#sk-container-id-2 div.sk-text-repr-fallback {display: none;}</style><div id=\"sk-container-id-2\" class=\"sk-top-container\"><div class=\"sk-text-repr-fallback\"><pre>RandomForestRegressor()</pre><b>In a Jupyter environment, please rerun this cell to show the HTML representation or trust the notebook. <br />On GitHub, the HTML representation is unable to render, please try loading this page with nbviewer.org.</b></div><div class=\"sk-container\" hidden><div class=\"sk-item\"><div class=\"sk-estimator sk-toggleable\"><input class=\"sk-toggleable__control sk-hidden--visually\" id=\"sk-estimator-id-2\" type=\"checkbox\" checked><label for=\"sk-estimator-id-2\" class=\"sk-toggleable__label sk-toggleable__label-arrow\">RandomForestRegressor</label><div class=\"sk-toggleable__content\"><pre>RandomForestRegressor()</pre></div></div></div></div></div>"
      ],
      "text/plain": [
       "RandomForestRegressor()"
      ]
     },
     "execution_count": 43,
     "metadata": {},
     "output_type": "execute_result"
    }
   ],
   "source": [
    "from sklearn.ensemble import RandomForestRegressor\n",
    "rf = RandomForestRegressor()\n",
    "rf.fit(X_train,y_train)"
   ]
  },
  {
   "cell_type": "code",
   "execution_count": 44,
   "id": "a29a22f7-f5cc-452f-b3a7-0f32da77af30",
   "metadata": {},
   "outputs": [],
   "source": [
    "y_pred1 = rf.predict(X_test)"
   ]
  },
  {
   "cell_type": "markdown",
   "id": "51c6042a-f3e9-479c-9b6c-4286b8c89d86",
   "metadata": {
    "jp-MarkdownHeadingCollapsed": true
   },
   "source": [
    "### Random Forest Regressor Evalutaion in step 5.2"
   ]
  },
  {
   "cell_type": "markdown",
   "id": "fa12e21c-f34b-44c8-a575-c6eebcc62dc5",
   "metadata": {},
   "source": [
    "# 4.5 Gradient Boosting Regressor"
   ]
  },
  {
   "cell_type": "code",
   "execution_count": 45,
   "id": "1b686567-5afa-46e0-8f3e-a0253f83bd6f",
   "metadata": {},
   "outputs": [
    {
     "data": {
      "text/html": [
       "<style>#sk-container-id-3 {color: black;background-color: white;}#sk-container-id-3 pre{padding: 0;}#sk-container-id-3 div.sk-toggleable {background-color: white;}#sk-container-id-3 label.sk-toggleable__label {cursor: pointer;display: block;width: 100%;margin-bottom: 0;padding: 0.3em;box-sizing: border-box;text-align: center;}#sk-container-id-3 label.sk-toggleable__label-arrow:before {content: \"▸\";float: left;margin-right: 0.25em;color: #696969;}#sk-container-id-3 label.sk-toggleable__label-arrow:hover:before {color: black;}#sk-container-id-3 div.sk-estimator:hover label.sk-toggleable__label-arrow:before {color: black;}#sk-container-id-3 div.sk-toggleable__content {max-height: 0;max-width: 0;overflow: hidden;text-align: left;background-color: #f0f8ff;}#sk-container-id-3 div.sk-toggleable__content pre {margin: 0.2em;color: black;border-radius: 0.25em;background-color: #f0f8ff;}#sk-container-id-3 input.sk-toggleable__control:checked~div.sk-toggleable__content {max-height: 200px;max-width: 100%;overflow: auto;}#sk-container-id-3 input.sk-toggleable__control:checked~label.sk-toggleable__label-arrow:before {content: \"▾\";}#sk-container-id-3 div.sk-estimator input.sk-toggleable__control:checked~label.sk-toggleable__label {background-color: #d4ebff;}#sk-container-id-3 div.sk-label input.sk-toggleable__control:checked~label.sk-toggleable__label {background-color: #d4ebff;}#sk-container-id-3 input.sk-hidden--visually {border: 0;clip: rect(1px 1px 1px 1px);clip: rect(1px, 1px, 1px, 1px);height: 1px;margin: -1px;overflow: hidden;padding: 0;position: absolute;width: 1px;}#sk-container-id-3 div.sk-estimator {font-family: monospace;background-color: #f0f8ff;border: 1px dotted black;border-radius: 0.25em;box-sizing: border-box;margin-bottom: 0.5em;}#sk-container-id-3 div.sk-estimator:hover {background-color: #d4ebff;}#sk-container-id-3 div.sk-parallel-item::after {content: \"\";width: 100%;border-bottom: 1px solid gray;flex-grow: 1;}#sk-container-id-3 div.sk-label:hover label.sk-toggleable__label {background-color: #d4ebff;}#sk-container-id-3 div.sk-serial::before {content: \"\";position: absolute;border-left: 1px solid gray;box-sizing: border-box;top: 0;bottom: 0;left: 50%;z-index: 0;}#sk-container-id-3 div.sk-serial {display: flex;flex-direction: column;align-items: center;background-color: white;padding-right: 0.2em;padding-left: 0.2em;position: relative;}#sk-container-id-3 div.sk-item {position: relative;z-index: 1;}#sk-container-id-3 div.sk-parallel {display: flex;align-items: stretch;justify-content: center;background-color: white;position: relative;}#sk-container-id-3 div.sk-item::before, #sk-container-id-3 div.sk-parallel-item::before {content: \"\";position: absolute;border-left: 1px solid gray;box-sizing: border-box;top: 0;bottom: 0;left: 50%;z-index: -1;}#sk-container-id-3 div.sk-parallel-item {display: flex;flex-direction: column;z-index: 1;position: relative;background-color: white;}#sk-container-id-3 div.sk-parallel-item:first-child::after {align-self: flex-end;width: 50%;}#sk-container-id-3 div.sk-parallel-item:last-child::after {align-self: flex-start;width: 50%;}#sk-container-id-3 div.sk-parallel-item:only-child::after {width: 0;}#sk-container-id-3 div.sk-dashed-wrapped {border: 1px dashed gray;margin: 0 0.4em 0.5em 0.4em;box-sizing: border-box;padding-bottom: 0.4em;background-color: white;}#sk-container-id-3 div.sk-label label {font-family: monospace;font-weight: bold;display: inline-block;line-height: 1.2em;}#sk-container-id-3 div.sk-label-container {text-align: center;}#sk-container-id-3 div.sk-container {/* jupyter's `normalize.less` sets `[hidden] { display: none; }` but bootstrap.min.css set `[hidden] { display: none !important; }` so we also need the `!important` here to be able to override the default hidden behavior on the sphinx rendered scikit-learn.org. See: https://github.com/scikit-learn/scikit-learn/issues/21755 */display: inline-block !important;position: relative;}#sk-container-id-3 div.sk-text-repr-fallback {display: none;}</style><div id=\"sk-container-id-3\" class=\"sk-top-container\"><div class=\"sk-text-repr-fallback\"><pre>GradientBoostingRegressor()</pre><b>In a Jupyter environment, please rerun this cell to show the HTML representation or trust the notebook. <br />On GitHub, the HTML representation is unable to render, please try loading this page with nbviewer.org.</b></div><div class=\"sk-container\" hidden><div class=\"sk-item\"><div class=\"sk-estimator sk-toggleable\"><input class=\"sk-toggleable__control sk-hidden--visually\" id=\"sk-estimator-id-3\" type=\"checkbox\" checked><label for=\"sk-estimator-id-3\" class=\"sk-toggleable__label sk-toggleable__label-arrow\">GradientBoostingRegressor</label><div class=\"sk-toggleable__content\"><pre>GradientBoostingRegressor()</pre></div></div></div></div></div>"
      ],
      "text/plain": [
       "GradientBoostingRegressor()"
      ]
     },
     "execution_count": 45,
     "metadata": {},
     "output_type": "execute_result"
    }
   ],
   "source": [
    "from sklearn.ensemble import GradientBoostingRegressor\n",
    "gbr = GradientBoostingRegressor()\n",
    "gbr.fit(X_train,y_train)"
   ]
  },
  {
   "cell_type": "code",
   "execution_count": 46,
   "id": "d36e8020-f712-44fe-bf00-91884e7117f1",
   "metadata": {},
   "outputs": [],
   "source": [
    "y_pred2 = gbr.predict(X_test)"
   ]
  },
  {
   "cell_type": "markdown",
   "id": "1c75c9e4-a08e-4a53-8a53-02776ef57b17",
   "metadata": {},
   "source": [
    "### Gradient Boosting Regressor Evalutaion in step 5.3"
   ]
  },
  {
   "cell_type": "markdown",
   "id": "d1cc34d0-3a4e-4851-b556-eed831a3734f",
   "metadata": {},
   "source": [
    "# Step 5 : Evaluation"
   ]
  },
  {
   "cell_type": "markdown",
   "id": "5436cfd9-9146-4542-864b-d74cf0668f70",
   "metadata": {},
   "source": [
    "### In this process we evaluate the models using some evaluation methods to see how well they performed"
   ]
  },
  {
   "cell_type": "markdown",
   "id": "0e3dbec0-24c5-446d-a1e4-59bb1c61c71f",
   "metadata": {},
   "source": [
    "- Mean Absolute Error\n",
    "- Mean Squared Error\n",
    "- R2 Score"
   ]
  },
  {
   "cell_type": "markdown",
   "id": "f94d0b6d-2093-4f5e-a9fd-eb93a6803288",
   "metadata": {},
   "source": [
    "# 5.1 Linear Regression Evaluation"
   ]
  },
  {
   "cell_type": "code",
   "execution_count": 49,
   "id": "18df6689-e985-449d-afcd-8ddb9fc80f1e",
   "metadata": {},
   "outputs": [
    {
     "name": "stdout",
     "output_type": "stream",
     "text": [
      "mean_absolute_error : 10002.506294197387\n",
      "mean_squared_error : 348827586.56374913\n",
      "R2 Score : -0.4533563261249143\n"
     ]
    }
   ],
   "source": [
    "from sklearn.metrics import mean_absolute_error,mean_squared_error,r2_score\n",
    "mae = mean_absolute_error(y_pred,y_test)\n",
    "mse = mean_squared_error(y_pred,y_test)\n",
    "r2 = r2_score(y_pred,y_test)\n",
    "\n",
    "print('mean_absolute_error :',  mae)\n",
    "print('mean_squared_error :',  mse)\n",
    "print('R2 Score :',  r2)"
   ]
  },
  {
   "cell_type": "code",
   "execution_count": 51,
   "id": "1a534796-fe89-4fe3-bbd1-907a830ad928",
   "metadata": {},
   "outputs": [
    {
     "data": {
      "image/png": "[encoded data removed]",
      "text/plain": [
       "<Figure size 640x480 with 1 Axes>"
      ]
     },
     "metadata": {},
     "output_type": "display_data"
    }
   ],
   "source": [
    "plt.scatter(y_test,y_pred)\n",
    "plt.xlabel('Actual')\n",
    "plt.ylabel('Predicted')\n",
    "plt.title('Linear Regression Performance')\n",
    "plt.show()"
   ]
  },
  {
   "cell_type": "markdown",
   "id": "80514ab0-4c4e-4ae8-b302-008d546fb1a1",
   "metadata": {},
   "source": [
    "# 5.2 Random Forest Regressor Evaluation"
   ]
  },
  {
   "cell_type": "code",
   "execution_count": 52,
   "id": "6ff001dc-65ab-4248-babf-5f97bb791fbf",
   "metadata": {},
   "outputs": [
    {
     "name": "stdout",
     "output_type": "stream",
     "text": [
      "mean_absolute_error : 2302.5972230189227\n",
      "mean_squared_error : 32446143.612913992\n",
      "R2 Score : 0.9503019576454835\n",
      "training score : 0.9805009611764015\n",
      "testing score : 0.9503019576454835\n"
     ]
    }
   ],
   "source": [
    "from sklearn.metrics import mean_absolute_error,mean_squared_error,r2_score\n",
    "mae = mean_absolute_error(y_test,y_pred1)\n",
    "mse = mean_squared_error(y_test,y_pred1)\n",
    "r2 = r2_score(y_test,y_pred1)\n",
    "\n",
    "\n",
    "print('mean_absolute_error :',mae)\n",
    "print('mean_squared_error :',mse)\n",
    "print('R2 Score :',r2)\n",
    "print('training score :',rf.score(X_train,y_train))\n",
    "print('testing score :',rf.score(X_test,y_test))"
   ]
  },
  {
   "cell_type": "code",
   "execution_count": 53,
   "id": "c7fb1bea-cdf8-4bde-8213-c36035dc71c5",
   "metadata": {},
   "outputs": [
    {
     "data": {
      "image/png": "[encoded data removed]",
      "text/plain": [
       "<Figure size 640x480 with 1 Axes>"
      ]
     },
     "metadata": {},
     "output_type": "display_data"
    }
   ],
   "source": [
    "plt.scatter(y_test,y_pred1)\n",
    "plt.xlabel('Actual')\n",
    "plt.ylabel('Predicted')\n",
    "plt.title('Random Forest Regressor Performance')\n",
    "plt.show()"
   ]
  },
  {
   "cell_type": "markdown",
   "id": "ec44a3dd-256a-413d-832f-b3d68c4b6d7c",
   "metadata": {},
   "source": [
    "# 5.3 Gradient Boosting Regressor Evaluation"
   ]
  },
  {
   "cell_type": "code",
   "execution_count": 55,
   "id": "ed745551-aaec-4ab6-a3b3-c88145876380",
   "metadata": {},
   "outputs": [
    {
     "name": "stdout",
     "output_type": "stream",
     "text": [
      "mean_absolute_error : 3236.9086963409977\n",
      "mean_squared_error : 46171677.18577541\n",
      "R2 Score : 0.9292784376555483\n",
      "traing score : 0.9505104185567477\n",
      "testing score : 0.9292784376555483\n"
     ]
    }
   ],
   "source": [
    "from sklearn.metrics import mean_absolute_error,mean_squared_error,r2_score\n",
    "mae = mean_absolute_error(y_test,y_pred2)\n",
    "mse = mean_squared_error(y_test,y_pred2)\n",
    "r2 = r2_score(y_test,y_pred2)\n",
    "\n",
    "print('mean_absolute_error :',mae)\n",
    "print('mean_squared_error :',mse)\n",
    "print('R2 Score :',r2)\n",
    "print('traing score :',gbr.score(X_train,y_train))\n",
    "print('testing score :',gbr.score(X_test,y_test))"
   ]
  },
  {
   "cell_type": "code",
   "execution_count": 2,
   "id": "a033adc1-9f95-4ec4-8473-b76455b225b5",
   "metadata": {},
   "outputs": [
    {
     "ename": "NameError",
     "evalue": "name 'plt' is not defined",
     "output_type": "error",
     "traceback": [
      "\u001b[1;31m---------------------------------------------------------------------------\u001b[0m",
      "\u001b[1;31mNameError\u001b[0m                                 Traceback (most recent call last)",
      "Cell \u001b[1;32mIn[2], line 1\u001b[0m\n\u001b[1;32m----> 1\u001b[0m plt\u001b[38;5;241m.\u001b[39mscatter(y_test,y_pred2)\n\u001b[0;32m      2\u001b[0m plt\u001b[38;5;241m.\u001b[39mxlabel(\u001b[38;5;124m'\u001b[39m\u001b[38;5;124mActual\u001b[39m\u001b[38;5;124m'\u001b[39m)\n\u001b[0;32m      3\u001b[0m plt\u001b[38;5;241m.\u001b[39mylabel(\u001b[38;5;124m'\u001b[39m\u001b[38;5;124mPredicted\u001b[39m\u001b[38;5;124m'\u001b[39m)\n",
      "\u001b[1;31mNameError\u001b[0m: name 'plt' is not defined"
     ]
    }
   ],
   "source": [
    "plt.scatter(y_test,y_pred2)\n",
    "plt.xlabel('Actual')\n",
    "plt.ylabel('Predicted')\n",
    "plt.title('Gradient Boosting Regressor Performance')\n",
    "plt.show()"
   ]
  },
  {
   "cell_type": "markdown",
   "id": "362bfc1b-1693-42ab-9854-49292f535ecf",
   "metadata": {},
   "source": [
    "# conclusion"
   ]
  },
  {
   "cell_type": "markdown",
   "id": "5bc995d7-7833-42ce-9522-c23abcc2337e",
   "metadata": {},
   "source": [
    "### From the above we can see that the first algorithm didn't do too well as its peformance is less than 50% but the other two Random Forest Regressor and Gradient boost Regressor did well and above 90%"
   ]
  },
  {
   "cell_type": "code",
   "execution_count": null,
   "id": "7c4e4cb3-47af-416f-9fc1-4a18c05157f3",
   "metadata": {},
   "outputs": [],
   "source": []
  }
 ],
 "metadata": {
  "kernelspec": {
   "display_name": "Python 3 (ipykernel)",
   "language": "python",
   "name": "python3"
  },
  "language_info": {
   "codemirror_mode": {
    "name": "ipython",
    "version": 3
   },
   "file_extension": ".py",
   "mimetype": "text/x-python",
   "name": "python",
   "nbconvert_exporter": "python",
   "pygments_lexer": "ipython3",
   "version": "3.11.7"
  }
 },
 "nbformat": 4,
 "nbformat_minor": 5
}
